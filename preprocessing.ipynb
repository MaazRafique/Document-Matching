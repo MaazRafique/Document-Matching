{
 "cells": [
  {
   "cell_type": "markdown",
   "metadata": {},
   "source": [
    "**Importing Liabraries**"
   ]
  },
  {
   "cell_type": "code",
   "execution_count": 1,
   "metadata": {},
   "outputs": [
    {
     "name": "stderr",
     "output_type": "stream",
     "text": [
      "/home/maaz/anaconda3/lib/python3.7/site-packages/tensorflow_addons/utils/ensure_tf_install.py:67: UserWarning: Tensorflow Addons supports using Python ops for all Tensorflow versions above or equal to 2.7.0 and strictly below 2.10.0 (nightly versions are not supported). \n",
      " The versions of TensorFlow you are currently using is 2.4.0 and is not supported. \n",
      "Some things might work, some things might not.\n",
      "If you were to encounter a bug, do not file an issue.\n",
      "If you want to make sure you're using a tested and supported configuration, either change the TensorFlow version or the TensorFlow Addons's version. \n",
      "You can find the compatibility matrix in TensorFlow Addon's readme:\n",
      "https://github.com/tensorflow/addons\n",
      "  UserWarning,\n"
     ]
    }
   ],
   "source": [
    "import os\n",
    "import pandas as pd\n",
    "import urduhack\n",
    "urduhack.download()\n",
    "from urduhack.models.lemmatizer import lemmatizer\n",
    "from urduhack.normalization import normalize\n",
    "from urduhack.preprocessing import normalize_whitespace, remove_punctuation,remove_accents,replace_numbers\n",
    "from urduhack.stop_words import STOP_WORDS\n",
    "import spacy\n",
    "from sklearn.metrics.pairwise import cosine_similarity\n",
    "from sklearn.feature_extraction.text import TfidfVectorizer\n"
   ]
  },
  {
   "cell_type": "code",
   "execution_count": 2,
   "metadata": {},
   "outputs": [],
   "source": [
    "# Custom Function for Stopwords Removal\n",
    "def remove_stopwords(text: str):\n",
    "    return \" \".join(word for word in text.split() if word not in STOP_WORDS)"
   ]
  },
  {
   "cell_type": "code",
   "execution_count": 3,
   "metadata": {},
   "outputs": [],
   "source": [
    "# Custom Function For Applying Lemma\n",
    "def lemitizeStr(str):\n",
    "    lemme_str = \"\"\n",
    "    temp = lemmatizer.lemma_lookup(str)\n",
    "    for t in temp:\n",
    "        lemme_str += t[0] + \" \"\n",
    "    \n",
    "    return lemme_str"
   ]
  },
  {
   "cell_type": "markdown",
   "metadata": {},
   "source": [
    "# Preprocessing With Urdu Hack"
   ]
  },
  {
   "cell_type": "markdown",
   "metadata": {},
   "source": [
    "**Text Preprocessing of Orignal Document**"
   ]
  },
  {
   "cell_type": "code",
   "execution_count": 4,
   "metadata": {},
   "outputs": [],
   "source": [
    "original_file_read = pd.read_xml('./UPPC Corpus/data/001_task_a.xml',xpath=\"/UPPC_document\")\n",
    "original_file_data = original_file_read['UPPC_document'].values[0]"
   ]
  },
  {
   "cell_type": "code",
   "execution_count": 5,
   "metadata": {},
   "outputs": [
    {
     "name": "stdout",
     "output_type": "stream",
     "text": [
      "چودھری رحمت علی  16 نومبر1897  کو مشرقی پنجاب کے ضلع ہوشیار پور کے گائوں  موہراں میں ایک\n",
      " متوسط زمیندار جناب حاجی شاہ کے ہاں پیدا   ہوئے۔ ابتدائی تعلیم انہوں نے ایک مکتب سے حاصل کی جو ایک عالم دین چلا رہے تھے۔ میٹرک اینگلو سنسکرت ہائی اسکول جالندھر سے کیا۔ 1914  میں   مزید تعلیم کے لئے لاہور  تشریف  لائے انہوں نے اسلامیہ کالج لاہور میں داخلہ لیا۔ 1915 میں اسلامیہ کالج میں بزم  شبلی کی بنیاد رکھی کیونکہ وہ  مولاناشبلی سے بہت  متاثر تھے اور پھراس کے پلیٹ فارم  سے 1915 میں تقسیم  ہن کا نظریہ  پیش کیا۔ 1918 میں بی اے کرنے کے بعد جناب محمد  دین فوق کے اخبار کشمیر گزٹ میں اسسٹنٹ ایڈیٹر کی حیثیت سے اپنے کیئریر کا آغاز کیا۔ 1928 میں ایچی سن کالج میں اتالیق مقرر ہوئے۔ کچھ  عرصہ  بعد انگلستان تشریف لے گئے جہاں کیمبرج اور ڈبلن یونورسٹیوں سے قانون اور سیاست میں اعلیٰ ڈگریاں حاصل کیں۔ اس طرح 1933 میں انہوں نے برصغیر کے طلباء پر مشتمل ایک تنظیم پاکستان نیشنل لبریشن موومنٹ کے نام سے قائم کی۔ ذہن میں رکھئے گا 1933 میں۔اسی سال چودھری رحمت علی  نے دوسری گول می کانفرنس کے موقع  پر اپنا مشہور کتابچہ Now or Never اب یا کبھی نہیں۔ شائع کیا جس میں پہلی مرتبہ لفظ پاکستان استعمال کیا گیا۔ 1935 میں انہوں نے کیمبرج  سے ایک ہفت روزہ اخبار نکالا جس کا نام بھی پاکستان تھا۔ چودھری رحمت علی 23 مارچ کو آلانڈیا  مسلم لیگ کے چونتیسوی سالانہ اجلاس میں لاہور تشریف لانا چاہتے تھے لیکن چند روز قبل خاکساروں کی فائرنگ کی وجہ سے اس وقت کے وزیر اعلیٰ پنجاب جناب سکندر  حیات نے چودھری رحمت علی کے پنجاب میں داخلے پر پابندی عائد کر دی-29 جنوری 1951  کو وہ نمونیہ میں مبتلا ہو کر شدید بیماری کی حالت میں  انگلستان کے ایک مقامی نرسنگ ہوم میں داخل ہو گئے لیکن صحت یاب نہ ہو سکے اور 3 فروری 1951 کو اپنے خالق حقیقی سے جا ملی۔  چودھری رحمت  علی کا جسدخاکی انگلستان کے شہر کیمبرج کے قبرستان میں امانتاً  دفن  ہے۔\n",
      "1683\n"
     ]
    }
   ],
   "source": [
    "print(original_file_data)\n",
    "print(len(original_file_data))"
   ]
  },
  {
   "cell_type": "code",
   "execution_count": 6,
   "metadata": {},
   "outputs": [],
   "source": [
    "# original_file_data = replace_numbers(original_file_data)\n",
    "original_file_data = normalize(original_file_data)\n",
    "original_file_data = remove_accents(original_file_data)\n",
    "original_file_data = remove_punctuation(original_file_data)\n",
    "original_file_data = normalize_whitespace(original_file_data)"
   ]
  },
  {
   "cell_type": "code",
   "execution_count": 7,
   "metadata": {},
   "outputs": [
    {
     "name": "stdout",
     "output_type": "stream",
     "text": [
      "چودھری رحمت علی 16 نومبر1897 کو مشرقی پنجاب کے ضلع ہوشیار پور کے گائوں موہراں میں ایک\n",
      " متوسط زمیندار جناب حاجی شاہ کے ہاں پیدا ہوئے ابتدائی تعلیم انہوں نے ایک مکتب سے حاصل کی جو ایک عالم دین چلا رہے تھے میٹرک اینگلو سنسکرت ہائی اسکول جالندھر سے کیا 1914 میں مزید تعلیم کے لئے لاہور تشریف لائے انہوں نے اسلامیہ کالج لاہور میں داخلہ لیا 1915 میں اسلامیہ کالج میں بزم شبلی کی بنیاد رکھی کیونکہ وہ مولاناشبلی سے بہت متاثر تھے اور پھراس کے پلیٹ فارم سے 1915 میں تقسیم ہن کا نظریہ پیش کیا 1918 میں بی اے کرنے کے بعد جناب محمد دین فوق کے اخبار کشمیر گزٹ میں اسسٹنٹ ایڈیٹر کی حیثیت سے اپنے کیئریر کا آغاز کیا 1928 میں ایچی سن کالج میں اتالیق مقرر ہوئے کچھ عرصہ بعد انگلستان تشریف لے گئے جہاں کیمبرج اور ڈبلن یونورسٹیوں سے قانون اور سیاست میں اعلی ڈگریاں حاصل کیں اس طرح 1933 میں انہوں نے برصغیر کے طلباء پر مشتمل ایک تنظیم پاکستان نیشنل لبریشن موومنٹ کے نام سے قائم کی ذہن میں رکھئے گا 1933 میںاسی سال چودھری رحمت علی نے دوسری گول می کانفرنس کے موقع پر اپنا مشہور کتابچہ Now or Never اب یا کبھی نہیں شائع کیا جس میں پہلی مرتبہ لفظ پاکستان استعمال کیا گیا 1935 میں انہوں نے کیمبرج سے ایک ہفت روزہ اخبار نکالا جس کا نام بھی پاکستان تھا چودھری رحمت علی 23 مارچ کو آلانڈیا مسلم لیگ کے چونتیسوی سالانہ اجلاس میں لاہور تشریف لانا چاہتے تھے لیکن چند روز قبل خاکساروں کی فائرنگ کی وجہ سے اس وقت کے وزیر اعلی پنجاب جناب سکندر حیات نے چودھری رحمت علی کے پنجاب میں داخلے پر پابندی عائد کر دی29 جنوری 1951 کو وہ نمونیہ میں مبتلا ہو کر شدید بیماری کی حالت میں انگلستان کے ایک مقامی نرسنگ ہوم میں داخل ہو گئے لیکن صحت یاب نہ ہو سکے اور 3 فروری 1951 کو اپنے خالق حقیقی سے جا ملی چودھری رحمت علی کا جسدخاکی انگلستان کے شہر کیمبرج کے قبرستان میں امانتا دفن ہے\n",
      "1634\n"
     ]
    }
   ],
   "source": [
    "print(original_file_data)\n",
    "print(len(original_file_data))"
   ]
  },
  {
   "cell_type": "code",
   "execution_count": 8,
   "metadata": {},
   "outputs": [],
   "source": [
    "original_file_data = remove_stopwords(original_file_data)"
   ]
  },
  {
   "cell_type": "code",
   "execution_count": 9,
   "metadata": {},
   "outputs": [
    {
     "name": "stdout",
     "output_type": "stream",
     "text": [
      "چودھری رحمت علی 16 نومبر1897 مشرقی پنجاب ضلع ہوشیار پور گائوں موہراں متوسط زمیندار حاجی شاہ پیدا ابتدائی تعلیم مکتب حاصل عالم دین میٹرک اینگلو سنسکرت ہائی اسکول جالندھر 1914 تعلیم لاہور تشریف اسلامیہ کالج لاہور داخلہ 1915 اسلامیہ کالج بزم شبلی بنیاد مولاناشبلی متاثر پھراس پلیٹ فارم 1915 تقسیم ہن نظریہ پیش 1918 بی اے محمد دین فوق اخبار کشمیر گزٹ اسسٹنٹ ایڈیٹر حیثیت کیئریر آغاز 1928 ایچی سن کالج اتالیق مقرر عرصہ انگلستان تشریف کیمبرج ڈبلن یونورسٹیوں قانون سیاست اعلی ڈگریاں حاصل کیں 1933 برصغیر طلباء مشتمل تنظیم پاکستان نیشنل لبریشن موومنٹ نام قائم ذہن رکھئے 1933 میںاسی سال چودھری رحمت علی گول می کانفرنس موقع مشہور کتابچہ Now or Never شائع مرتبہ لفظ پاکستان استعمال 1935 کیمبرج ہفت روزہ اخبار نکالا نام پاکستان چودھری رحمت علی 23 مارچ آلانڈیا مسلم لیگ چونتیسوی سالانہ اجلاس لاہور تشریف روز خاکساروں فائرنگ وقت وزیر اعلی پنجاب سکندر حیات چودھری رحمت علی پنجاب داخلے پابندی عائد دی29 جنوری 1951 نمونیہ مبتلا شدید بیماری حالت انگلستان مقامی نرسنگ ہوم داخل صحت یاب سکے 3 فروری 1951 خالق حقیقی ملی چودھری رحمت علی جسدخاکی انگلستان شہر کیمبرج قبرستان امانتا دفن\n",
      "1060\n"
     ]
    }
   ],
   "source": [
    "print(original_file_data)\n",
    "print(len(original_file_data))"
   ]
  },
  {
   "cell_type": "code",
   "execution_count": 10,
   "metadata": {},
   "outputs": [],
   "source": [
    "lemmatized = lemitizeStr(original_file_data)"
   ]
  },
  {
   "cell_type": "code",
   "execution_count": 11,
   "metadata": {},
   "outputs": [
    {
     "data": {
      "text/plain": [
       "'چودھری رحمت علی 16 نومبر1897 مشرقی پنجاب ضلع ہوشیار پور گائوں موہراں متوسط زمیندار حاجی شاہ پیدا ابتدائی تعلیم مکتب حاصل عالم دین میٹرک اینگلو سنسکرت ہائی اسکول جالندھر 1914 تعلیم لاہور تشریف اسلامیہ کالج لاہور داخلہ 1915 اسلامیہ کالج بزم شبلی بنیاد مولاناشبلی متاثر پھراس پلیٹ فارم 1915 تقسیم ہن نظریہ پیش 1918 بی اے محمد دین فوق اخبار کشمیر گزٹ اسسٹنٹ ایڈیٹر حیثیت کیئریر آغاز 1928 ایچی سن کالج اتالیق مقرر عرصہ انگلستان تشریف کیمبرج ڈبلن یونورسٹیوں قانون سیاست اعلی ڈگریاں حاصل کیں 1933 برصغیر طلباء مشتمل تنظیم پاکستان نیشنل لبریشن موومنٹ نام قائم ذہن رکھئے 1933 میںاسی سال چودھری رحمت علی گول می کانفرنس موقع مشہور کتابچہ Now or Never شائع مرتبہ لفظ پاکستان استعمال 1935 کیمبرج ہفت روزہ اخبار نکالا نام پاکستان چودھری رحمت علی 23 مارچ آلانڈیا مسلم لیگ چونتیسوی سالانہ اجلاس لاہور تشریف روز خاکساروں فائرنگ وقت وزیر اعلی پنجاب سکندر حیات چودھری رحمت علی پنجاب داخلے پابندی عائد دی29 جنوری 1951 نمونیہ مبتلا شدید بیماری حالت انگلستان مقامی نرسنگ ہوم داخل صحت یاب سکے 3 فروری 1951 خالق حقیقی ملی چودھری رحمت علی جسدخاکی انگلستان شہر کیمبرج قبرستان امانتا دفن '"
      ]
     },
     "execution_count": 11,
     "metadata": {},
     "output_type": "execute_result"
    }
   ],
   "source": [
    "lemmatized"
   ]
  },
  {
   "cell_type": "code",
   "execution_count": 12,
   "metadata": {},
   "outputs": [
    {
     "data": {
      "text/plain": [
       "1060"
      ]
     },
     "execution_count": 12,
     "metadata": {},
     "output_type": "execute_result"
    }
   ],
   "source": [
    "len(original_file_data)"
   ]
  },
  {
   "cell_type": "code",
   "execution_count": 13,
   "metadata": {},
   "outputs": [
    {
     "data": {
      "text/plain": [
       "1061"
      ]
     },
     "execution_count": 13,
     "metadata": {},
     "output_type": "execute_result"
    }
   ],
   "source": [
    "len(lemmatized)"
   ]
  },
  {
   "cell_type": "code",
   "execution_count": 14,
   "metadata": {},
   "outputs": [],
   "source": [
    "tokenizer_original = spacy.blank('ur')\n",
    "\n",
    "tokenized_original = tokenizer_original(lemmatized)"
   ]
  },
  {
   "cell_type": "code",
   "execution_count": 15,
   "metadata": {},
   "outputs": [
    {
     "data": {
      "text/plain": [
       "چودھری رحمت علی 16 نومبر1897 مشرقی پنجاب ضلع ہوشیار پور گائوں موہراں متوسط زمیندار حاجی شاہ پیدا ابتدائی تعلیم مکتب حاصل عالم دین میٹرک اینگلو سنسکرت ہائی اسکول جالندھر 1914 تعلیم لاہور تشریف اسلامیہ کالج لاہور داخلہ 1915 اسلامیہ کالج بزم شبلی بنیاد مولاناشبلی متاثر پھراس پلیٹ فارم 1915 تقسیم ہن نظریہ پیش 1918 بی اے محمد دین فوق اخبار کشمیر گزٹ اسسٹنٹ ایڈیٹر حیثیت کیئریر آغاز 1928 ایچی سن کالج اتالیق مقرر عرصہ انگلستان تشریف کیمبرج ڈبلن یونورسٹیوں قانون سیاست اعلی ڈگریاں حاصل کیں 1933 برصغیر طلباء مشتمل تنظیم پاکستان نیشنل لبریشن موومنٹ نام قائم ذہن رکھئے 1933 میںاسی سال چودھری رحمت علی گول می کانفرنس موقع مشہور کتابچہ Now or Never شائع مرتبہ لفظ پاکستان استعمال 1935 کیمبرج ہفت روزہ اخبار نکالا نام پاکستان چودھری رحمت علی 23 مارچ آلانڈیا مسلم لیگ چونتیسوی سالانہ اجلاس لاہور تشریف روز خاکساروں فائرنگ وقت وزیر اعلی پنجاب سکندر حیات چودھری رحمت علی پنجاب داخلے پابندی عائد دی29 جنوری 1951 نمونیہ مبتلا شدید بیماری حالت انگلستان مقامی نرسنگ ہوم داخل صحت یاب سکے 3 فروری 1951 خالق حقیقی ملی چودھری رحمت علی جسدخاکی انگلستان شہر کیمبرج قبرستان امانتا دفن "
      ]
     },
     "execution_count": 15,
     "metadata": {},
     "output_type": "execute_result"
    }
   ],
   "source": [
    "tokenized_original"
   ]
  },
  {
   "cell_type": "markdown",
   "metadata": {},
   "source": [
    "**Text Preprocessing of NP Document**"
   ]
  },
  {
   "cell_type": "code",
   "execution_count": null,
   "metadata": {},
   "outputs": [],
   "source": [
    "pnp_file_read = pd.read_xml('./UPPC Corpus/data/086_task_a_p.xml',xpath=\"/UPPC_document\")\n",
    "pnp_file_data = pnp_file_read['UPPC_document'].values[0]"
   ]
  },
  {
   "cell_type": "code",
   "execution_count": null,
   "metadata": {},
   "outputs": [
    {
     "name": "stdout",
     "output_type": "stream",
     "text": [
      "چودھری رحمت علی پنجاب کے ضلع ہوشیار پور کے ایک گاؤں موہراں میں ایک زمیندار جناب حاجی شاہ کے ہاں 16 نومبر 1897ء کو پیدا ہوئے۔ انہوں نے ابتدائی تعلیم ایک مدرسہ سے حاصل کی جس کو ایک عالم دین چلا رہے تھے۔ آپ نے میٹرک اینگلوسنلسکرت ہائی سکول جالندھر سے پاس کیا۔ اپنی تعلیم میں مزید اضافہ کے لئے آپ لاہور آگئے اور یہاں اسلامیہ کالج میں 1914ء کو داخلہ لے لیا۔ 1915ء میں مولانا شبلی سے متاثر ہونے کی وجہ سے آپ نے بزم شبلی کی بنیاد اسلامیہ کالج میں رکھی اور ایسی پلیٹ فارم سے تقسیم ہند کا نظریہ بھی پیش کیا۔ 1918ء میں بی اے پاس کرنے کے بعد آپ نے اپنے مستقل کی ابتداء ایک اسسٹنٹ ایڈیٹر کی حیثیت سے جناب محمد دین فوق کے اخبار کشمیر گزٹ سے کی۔ آپ 1928ء میں ایچی سن کالج میں معلم مقرر ہونے کے کچھ ہی دیر بعد انگلستان میں کیمبرج اور ٹیلن یونیورسٹیوں سے سیاست اور قانون کی اعلیٰ ڈگریاں حاصل کرنے کے لئے تشریف لے آئے۔ پاکستان نیشنل لبریشن موومنٹ کے نام سے چودھری رحمت علی نے 1933ء میں برصغیر کے طلبات پر مشتمل ایک تنظیم برقرار کی یاد رہے 1933ء میں یہی دوسری گول میز کانفرنس کے موقع پر آپ نے اپنا مشہور کتابچہNow and neverنشر کیا جس میں لفظِ پاکستان کا پہلی بار ذکر ہوا۔ چودھری رحمت علی نے ایک ہفت روزہ یعنی کہ ہفتے میں ایک بار شائع ہونے والا اخبار کیمبرج سے نکالا جس کا نام بھی پاکستان تھا۔ 23 مارچ کو آل انڈیا مسلم لیگ کے 34ویں سالانہ اجلاس  چودھری رحمت علی شامل ہونا چاہتے تھے جبکہ اس وقت کے وزیر اعلیٰ پنجاب جناب سکندر حیات نے انہیں روزانہ کے بڑتے فائرنگ حملوں کی وجہ سے پنجاب میں داخل ہونے نہ دیا۔ آپ کو شدید نمونیہ کی شکایت کی وجہ سے 29 جنوری 1951ء کو انگلستان میں ایک نرسنگ ہوم میں داخل کیا گیا لیکن تندرست نہ ہونے کی وجہ سے 3 فروری 1951ء کو اپنے خالق حقیقی سے جا ملے۔ چودھری رحمت علی کے جسم خاکی کو انگلستان کے شہر کیمبرج کے قبرستان میں دفن کیا گیا۔\n",
      "1640\n"
     ]
    }
   ],
   "source": [
    "print(pnp_file_data)\n",
    "print(len(pnp_file_data))"
   ]
  },
  {
   "cell_type": "code",
   "execution_count": null,
   "metadata": {},
   "outputs": [],
   "source": [
    "pnp_file_data = replace_numbers(pnp_file_data)\n",
    "pnp_file_data = normalize(pnp_file_data)\n",
    "pnp_file_data = remove_accents(pnp_file_data)\n",
    "pnp_file_data = remove_punctuation(pnp_file_data)\n",
    "pnp_file_data = normalize_whitespace(pnp_file_data)"
   ]
  },
  {
   "cell_type": "code",
   "execution_count": null,
   "metadata": {},
   "outputs": [
    {
     "name": "stdout",
     "output_type": "stream",
     "text": [
      "چودھری رحمت علی پنجاب کے ضلع ہوشیار پور کے ایک گاؤں موہراں میں ایک زمیندار جناب حاجی شاہ کے ہاں 16 نومبر 1897ء کو پیدا ہوئے انہوں نے ابتدائی تعلیم ایک مدرسہ سے حاصل کی جس کو ایک عالم دین چلا رہے تھے آپ نے میٹرک اینگلوسنلسکرت ہائی سکول جالندھر سے پاس کیا اپنی تعلیم میں مزید اضافہ کے لئے آپ لاہور آگئے اور یہاں اسلامیہ کالج میں 1914ء کو داخلہ لے لیا 1915ء میں مولانا شبلی سے متاثر ہونے کی وجہ سے آپ نے بزم شبلی کی بنیاد اسلامیہ کالج میں رکھی اور ایسی پلیٹ فارم سے تقسیم ہند کا نظریہ بھی پیش کیا 1918ء میں بی اے پاس کرنے کے بعد آپ نے اپنے مستقل کی ابتداء ایک اسسٹنٹ ایڈیٹر کی حیثیت سے جناب محمد دین فوق کے اخبار کشمیر گزٹ سے کی آپ 1928ء میں ایچی سن کالج میں معلم مقرر ہونے کے کچھ ہی دیر بعد انگلستان میں کیمبرج اور ٹیلن یونیورسٹیوں سے سیاست اور قانون کی اعلی ڈگریاں حاصل کرنے کے لئے تشریف لے آئے پاکستان نیشنل لبریشن موومنٹ کے نام سے چودھری رحمت علی نے 1933ء میں برصغیر کے طلبات پر مشتمل ایک تنظیم برقرار کی یاد رہے 1933ء میں یہی دوسری گول میز کانفرنس کے موقع پر آپ نے اپنا مشہور کتابچہNow and neverنشر کیا جس میں لفظ پاکستان کا پہلی بار ذکر ہوا چودھری رحمت علی نے ایک ہفت روزہ یعنی کہ ہفتے میں ایک بار شائع ہونے والا اخبار کیمبرج سے نکالا جس کا نام بھی پاکستان تھا 23 مارچ کو آل انڈیا مسلم لیگ کے 34ویں سالانہ اجلاس چودھری رحمت علی شامل ہونا چاہتے تھے جبکہ اس وقت کے وزیر اعلی پنجاب جناب سکندر حیات نے انہیں روزانہ کے بڑتے فائرنگ حملوں کی وجہ سے پنجاب میں داخل ہونے نہ دیا آپ کو شدید نمونیہ کی شکایت کی وجہ سے 29 جنوری 1951ء کو انگلستان میں ایک نرسنگ ہوم میں داخل کیا گیا لیکن تندرست نہ ہونے کی وجہ سے 3 فروری 1951ء کو اپنے خالق حقیقی سے جا ملے چودھری رحمت علی کے جسم خاکی کو انگلستان کے شہر کیمبرج کے قبرستان میں دفن کیا گیا\n",
      "1624\n"
     ]
    }
   ],
   "source": [
    "print(pnp_file_data)\n",
    "print(len(pnp_file_data))"
   ]
  },
  {
   "cell_type": "code",
   "execution_count": null,
   "metadata": {},
   "outputs": [],
   "source": [
    "pnp_file_data = remove_stopwords(pnp_file_data)"
   ]
  },
  {
   "cell_type": "code",
   "execution_count": null,
   "metadata": {},
   "outputs": [
    {
     "name": "stdout",
     "output_type": "stream",
     "text": [
      "چودھری رحمت علی پنجاب ضلع ہوشیار پور گاؤں موہراں زمیندار حاجی شاہ 16 نومبر 1897ء پیدا ابتدائی تعلیم مدرسہ حاصل عالم دین میٹرک اینگلوسنلسکرت ہائی سکول جالندھر تعلیم اضافہ لاہور آگئے اسلامیہ کالج 1914ء داخلہ 1915ء مولانا شبلی متاثر بزم شبلی بنیاد اسلامیہ کالج پلیٹ فارم تقسیم ہند نظریہ پیش 1918ء بی اے مستقل ابتداء اسسٹنٹ ایڈیٹر حیثیت محمد دین فوق اخبار کشمیر گزٹ 1928ء ایچی سن کالج معلم مقرر انگلستان کیمبرج ٹیلن یونیورسٹیوں سیاست قانون اعلی ڈگریاں حاصل تشریف پاکستان نیشنل لبریشن موومنٹ نام چودھری رحمت علی 1933ء برصغیر طلبات مشتمل تنظیم برقرار یاد 1933ء گول میز کانفرنس موقع مشہور کتابچہNow and neverنشر لفظ پاکستان ذکر چودھری رحمت علی ہفت روزہ ہفتے شائع اخبار کیمبرج نکالا نام پاکستان 23 مارچ آل انڈیا مسلم لیگ 34ویں سالانہ اجلاس چودھری رحمت علی شامل وقت وزیر اعلی پنجاب سکندر حیات روزانہ بڑتے فائرنگ حملوں پنجاب داخل شدید نمونیہ شکایت 29 جنوری 1951ء انگلستان نرسنگ ہوم داخل تندرست 3 فروری 1951ء خالق حقیقی ملے چودھری رحمت علی جسم خاکی انگلستان شہر کیمبرج قبرستان دفن\n",
      "969\n"
     ]
    }
   ],
   "source": [
    "print(pnp_file_data)\n",
    "print(len(pnp_file_data))"
   ]
  },
  {
   "cell_type": "code",
   "execution_count": null,
   "metadata": {},
   "outputs": [],
   "source": [
    "lemmatized = lemitizeStr(pnp_file_data)"
   ]
  },
  {
   "cell_type": "code",
   "execution_count": null,
   "metadata": {},
   "outputs": [
    {
     "data": {
      "text/plain": [
       "'چودھری رحمت علی پنجاب ضلع ہوشیار پور گاؤں موہراں زمیندار حاجی شاہ 16 نومبر 1897ء پیدا ابتدائی تعلیم مدرسہ حاصل عالم دین میٹرک اینگلوسنلسکرت ہائی سکول جالندھر تعلیم اضافہ لاہور آگئے اسلامیہ کالج 1914ء داخلہ 1915ء مولانا شبلی متاثر بزم شبلی بنیاد اسلامیہ کالج پلیٹ فارم تقسیم ہند نظریہ پیش 1918ء بی اے مستقل ابتداء اسسٹنٹ ایڈیٹر حیثیت محمد دین فوق اخبار کشمیر گزٹ 1928ء ایچی سن کالج معلم مقرر انگلستان کیمبرج ٹیلن یونیورسٹیوں سیاست قانون اعلی ڈگریاں حاصل تشریف پاکستان نیشنل لبریشن موومنٹ نام چودھری رحمت علی 1933ء برصغیر طلبات مشتمل تنظیم برقرار یاد 1933ء گول میز کانفرنس موقع مشہور کتابچہNow and neverنشر لفظ پاکستان ذکر چودھری رحمت علی ہفت روزہ ہفتے شائع اخبار کیمبرج نکالا نام پاکستان 23 مارچ آل انڈیا مسلم لیگ 34ویں سالانہ اجلاس چودھری رحمت علی شامل وقت وزیر اعلی پنجاب سکندر حیات روزانہ بڑتے فائرنگ حملوں پنجاب داخل شدید نمونیہ شکایت 29 جنوری 1951ء انگلستان نرسنگ ہوم داخل تندرست 3 فروری 1951ء خالق حقیقی ملے چودھری رحمت علی جسم خاکی انگلستان شہر کیمبرج قبرستان دفن '"
      ]
     },
     "execution_count": 22,
     "metadata": {},
     "output_type": "execute_result"
    }
   ],
   "source": [
    "lemmatized"
   ]
  },
  {
   "cell_type": "code",
   "execution_count": null,
   "metadata": {},
   "outputs": [
    {
     "data": {
      "text/plain": [
       "969"
      ]
     },
     "execution_count": 23,
     "metadata": {},
     "output_type": "execute_result"
    }
   ],
   "source": [
    "len(pnp_file_data)"
   ]
  },
  {
   "cell_type": "code",
   "execution_count": null,
   "metadata": {},
   "outputs": [],
   "source": [
    "tokenizer_pnp = spacy.blank('ur')\n",
    "\n",
    "tokenized_pnp = tokenizer_pnp(pnp_file_data)"
   ]
  },
  {
   "cell_type": "code",
   "execution_count": null,
   "metadata": {},
   "outputs": [
    {
     "data": {
      "text/plain": [
       "چودھری"
      ]
     },
     "execution_count": 25,
     "metadata": {},
     "output_type": "execute_result"
    }
   ],
   "source": [
    "tokenized_pnp[0]"
   ]
  }
 ],
 "metadata": {
  "kernelspec": {
   "display_name": "Python 3.7.6 ('base')",
   "language": "python",
   "name": "python3"
  },
  "language_info": {
   "codemirror_mode": {
    "name": "ipython",
    "version": 3
   },
   "file_extension": ".py",
   "mimetype": "text/x-python",
   "name": "python",
   "nbconvert_exporter": "python",
   "pygments_lexer": "ipython3",
   "version": "3.7.6"
  },
  "orig_nbformat": 4,
  "vscode": {
   "interpreter": {
    "hash": "f4ee7d0a59f1509ab2b5aa6b1d7618d56619a494f52ff3b8d740ac87801b20cb"
   }
  }
 },
 "nbformat": 4,
 "nbformat_minor": 2
}
